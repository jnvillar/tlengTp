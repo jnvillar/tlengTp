{
 "cells": [
  {
   "cell_type": "code",
   "execution_count": null,
   "metadata": {},
   "outputs": [
    {
     "name": "stderr",
     "output_type": "stream",
     "text": [
      "WARNING: No t_error rule is defined\n"
     ]
    },
    {
     "name": "stdout",
     "output_type": "stream",
     "text": [
      "analize> 0 0\n",
      "None\n",
      "analize> (\\x:Bool.succ(x)) true \n"
     ]
    },
    {
     "name": "stderr",
     "output_type": "stream",
     "text": [
      "ERROR: La parte izquierda de la aplicacion (\\x:Bool->None->Nat.succ(x)) no es una funcion con dominio en Bool\n"
     ]
    },
    {
     "name": "stdout",
     "output_type": "stream",
     "text": [
      "p_expression_succ\n",
      "p_expression_lambda\n",
      "p_expression_application\n",
      "3\n",
      "\n"
     ]
    }
   ],
   "source": [
    "from analizador import parse\n",
    "\n",
    "while True:\n",
    "    try:\n",
    "        exp_str = raw_input('analize> ')\n",
    "    except EOFError:\n",
    "        break\n",
    "    print(parse(exp_str))"
   ]
  },
  {
   "cell_type": "code",
   "execution_count": null,
   "metadata": {
    "collapsed": true
   },
   "outputs": [],
   "source": []
  }
 ],
 "metadata": {
  "kernelspec": {
   "display_name": "Python 2",
   "language": "python",
   "name": "python2"
  },
  "language_info": {
   "codemirror_mode": {
    "name": "ipython",
    "version": 2
   },
   "file_extension": ".py",
   "mimetype": "text/x-python",
   "name": "python",
   "nbconvert_exporter": "python",
   "pygments_lexer": "ipython2",
   "version": "2.7.13"
  }
 },
 "nbformat": 4,
 "nbformat_minor": 2
}
