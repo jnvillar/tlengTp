{
 "cells": [
  {
   "cell_type": "code",
   "execution_count": null,
   "metadata": {},
   "outputs": [
    {
     "name": "stdout",
     "output_type": "stream",
     "text": [
      "analize> \\x:Nat.x\n",
      "\\x:Nat.x\n",
      "analize> (\\x.succ(x))0\n",
      "0\n"
     ]
    }
   ],
   "source": [
    "from analizador import parse\n",
    "\n",
    "while True:\n",
    "    try:\n",
    "        exp_str = raw_input('analize> ')\n",
    "    except EOFError:\n",
    "        break\n",
    "    print(parse(exp_str))"
   ]
  },
  {
   "cell_type": "code",
   "execution_count": 3,
   "metadata": {},
   "outputs": [
    {
     "data": {
      "text/plain": [
       "2"
      ]
     },
     "execution_count": 3,
     "metadata": {},
     "output_type": "execute_result"
    }
   ],
   "source": [
    "2"
   ]
  },
  {
   "cell_type": "code",
   "execution_count": null,
   "metadata": {
    "collapsed": true
   },
   "outputs": [],
   "source": []
  }
 ],
 "metadata": {
  "kernelspec": {
   "display_name": "Python 2",
   "language": "python",
   "name": "python2"
  }
 },
 "nbformat": 4,
 "nbformat_minor": 2
}
